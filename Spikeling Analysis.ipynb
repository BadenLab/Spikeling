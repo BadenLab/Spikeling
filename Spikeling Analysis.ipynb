{
 "cells": [
  {
   "cell_type": "markdown",
   "metadata": {},
   "source": [
    "# Load raw data"
   ]
  },
  {
   "cell_type": "code",
   "execution_count": 361,
   "metadata": {},
   "outputs": [],
   "source": [
    "import numpy as np"
   ]
  },
  {
   "cell_type": "code",
   "execution_count": 407,
   "metadata": {},
   "outputs": [],
   "source": [
    "data = np.loadtxt('SlowSteps1.csv', delimiter = ',') # load the raw data, change the filename as required!"
   ]
  },
  {
   "cell_type": "markdown",
   "metadata": {},
   "source": [
    "# Find spikes"
   ]
  },
  {
   "cell_type": "code",
   "execution_count": 408,
   "metadata": {},
   "outputs": [
    {
     "name": "stdout",
     "output_type": "stream",
     "text": [
      "168 spikes detected\n"
     ]
    }
   ],
   "source": [
    "time_s = (data[:,8]-data[0,8])/1000000 # set the timing array to seconds and subtract 1st entry to zero it\n",
    "n_spikes = 0\n",
    "spike_times = [] # in seconds\n",
    "spike_points = [] # in timepoints\n",
    "for x in range(1, data.shape[0]-1):\n",
    "    if (data[x,0]>10 and data[x-1,0]<10): # looks for all instances where subsequent Vm points jump from <10 to >10\n",
    "        spike_times.append(time_s[x])\n",
    "        spike_points.append(x)\n",
    "        n_spikes+=1\n",
    "    \n",
    "print(n_spikes, \"spikes detected\") \n"
   ]
  },
  {
   "cell_type": "markdown",
   "metadata": {},
   "source": [
    "# Compute spike rate"
   ]
  },
  {
   "cell_type": "code",
   "execution_count": 394,
   "metadata": {},
   "outputs": [],
   "source": [
    "spike_rate = np.zeros(data.shape[0])\n",
    "\n",
    "for x in range(0, n_spikes-1):\n",
    "    current_rate = 1/(spike_times[x+1]-spike_times[x])\n",
    "    spike_rate[spike_points[x]:spike_points[x+1]]=current_rate\n"
   ]
  },
  {
   "cell_type": "markdown",
   "metadata": {},
   "source": [
    "# Plot raw data and spike rate"
   ]
  },
  {
   "cell_type": "code",
   "execution_count": 395,
   "metadata": {},
   "outputs": [
    {
     "name": "stderr",
     "output_type": "stream",
     "text": [
      "WARNING:bokeh.core.validation.check:W-1004 (BOTH_CHILD_AND_ROOT): Models should not be a document root if they are in a layout box: Figure(id='25e4d8ca-bc35-44d5-9572-f71aea70c895', ...)\n"
     ]
    }
   ],
   "source": [
    "from bokeh.plotting import figure, output_file, show\n",
    "from bokeh.layouts import column\n",
    "from bokeh.models import Range1d\n",
    "\n",
    "output_file(\"RawDataPlot.html\")\n",
    "\n",
    "spike_plot = figure(plot_width=1200, plot_height = 100)\n",
    "spike_plot.line(time_s[:],spike_rate[:], line_width=1, line_color=\"black\") # Spike rate\n",
    "spike_plot.yaxis[0].axis_label = 'Rate (Hz)'\n",
    "spike_plot.xgrid.grid_line_color =None\n",
    "spike_plot.ygrid.grid_line_color =None\n",
    "spike_plot.xaxis.major_label_text_font_size = '0pt'  # turn off x-axis tick labels\n",
    "spike_plot.yaxis.minor_tick_line_color = None  # turn off y-axis minor ticks\n",
    "\n",
    "vm_plot = figure(plot_width=1200, plot_height = 300, y_range=Range1d(-100, 50),x_range=spike_plot.x_range)\n",
    "vm_plot.line(time_s[:],data[:,0], line_width=1, line_color=\"black\") # Vm\n",
    "vm_plot.scatter(spike_times[:],45, line_color=\"black\") # Rasterplot over spikes\n",
    "vm_plot.yaxis[0].axis_label = 'Vm (mV)'\n",
    "vm_plot.xgrid.grid_line_color =None\n",
    "vm_plot.ygrid.grid_line_color =None\n",
    "vm_plot.xaxis.major_label_text_font_size = '0pt'  # turn off x-axis tick labels\n",
    "\n",
    "itotal_plot = figure(plot_width=1200, plot_height = 200, x_range=spike_plot.x_range)\n",
    "itotal_plot.line(time_s[:], data[:,1], line_width=1, line_color=\"black\") # Itotal\n",
    "itotal_plot.yaxis[0].axis_label = 'I total (a.u.)'\n",
    "itotal_plot.xgrid.grid_line_color =None\n",
    "itotal_plot.xaxis.major_label_text_font_size = '0pt'  # turn off x-axis tick labels\n",
    "\n",
    "in_spikes_plot = figure(plot_width=1200, plot_height = 80, y_range=Range1d(-0.1,1.1), x_range=spike_plot.x_range)\n",
    "in_spikes_plot.line(time_s[:], data[:,3], line_width=1, line_color=\"black\") # Spikes in from Port 1\n",
    "in_spikes_plot.line(time_s[:], data[:,4], line_width=1, line_color=\"grey\") # Spikes in from Port 2\n",
    "in_spikes_plot.yaxis[0].axis_label = 'Input spikes'\n",
    "in_spikes_plot.xgrid.grid_line_color =None\n",
    "in_spikes_plot.ygrid.grid_line_color =None\n",
    "in_spikes_plot.yaxis.major_tick_line_color = None  # turn off y-axis major ticks\n",
    "in_spikes_plot.yaxis.minor_tick_line_color = None  # turn off y-axis minor ticks\n",
    "in_spikes_plot.xaxis.major_label_text_font_size = '0pt'  # turn off x-axis tick labels\n",
    "in_spikes_plot.yaxis.major_label_text_font_size = '0pt'  # turn off y-axis tick labels\n",
    "\n",
    "stim_plot = figure(plot_width=1200, plot_height = 100,y_range=Range1d(-0.1,1.1), x_range=spike_plot.x_range)\n",
    "stim_plot.line(time_s[:], data[:,2], line_width=1, line_color=\"black\") # Stimulus\n",
    "stim_plot.yaxis[0].axis_label = 'Stimulus'\n",
    "stim_plot.xaxis[0].axis_label = 'Time (s)'\n",
    "stim_plot.xgrid.grid_line_color =None\n",
    "stim_plot.ygrid.grid_line_color =None\n",
    "stim_plot.yaxis.major_tick_line_color = None  # turn off y-axis major ticks\n",
    "stim_plot.yaxis.minor_tick_line_color = None  # turn off y-axis minor ticks\n",
    "stim_plot.yaxis.major_label_text_font_size = '0pt'  # turn off y-axis tick labels\n",
    "\n",
    "show(column(spike_plot,vm_plot,itotal_plot,in_spikes_plot,stim_plot))\n"
   ]
  },
  {
   "cell_type": "markdown",
   "metadata": {},
   "source": [
    "# Analysis Option 1: Trigger stimuli and align"
   ]
  },
  {
   "cell_type": "code",
   "execution_count": 377,
   "metadata": {},
   "outputs": [
    {
     "name": "stdout",
     "output_type": "stream",
     "text": [
      "4000 points per loop; 7.27066 seconds\n",
      "8 loops\n"
     ]
    }
   ],
   "source": [
    "stimulus_times = []\n",
    "stimulus_times_s = []\n",
    "for x in range(0, data.shape[0]-1): # goes through each timepoint\n",
    "    if (data[x,2]<data[x+1,2]): # checks if the stimulus went from 0 to 1\n",
    "        stimulus_times.append(x) ## make a list of times (in points) when stimulus increased     \n",
    "        stimulus_times_s.append(time_s[x]) ## also make a list of times (in seconds)\n",
    "        \n",
    "loop_duration = stimulus_times[1]-stimulus_times[0] # compute arraylength for single stimulus\n",
    "loop_duration_s = stimulus_times_s[1]-stimulus_times_s[0] # compute arraylength for single stimulus also in s\n",
    "\n",
    "print(loop_duration, \"points per loop;\", loop_duration_s, \"seconds\")\n",
    "\n",
    "sr_loops = []\n",
    "vm_loops = []\n",
    "itotal_loops = []\n",
    "stim_loops = []\n",
    "\n",
    "stimulus_times = np.where(data[:,2]>np.roll(data[:,2], axis = 0, shift = 1)) ## make a list of times when stimulus increased (again)\n",
    "sr_loops = np.vstack([spike_rate[x:x+loop_duration] for x in stimulus_times[0][:-1]])\n",
    "vm_loops = np.vstack([data[x:x+loop_duration, 0] for x in stimulus_times[0][:-1]])\n",
    "itotal_loops = np.vstack([data[x:x+loop_duration, 1] for x in stimulus_times[0][:-1]])\n",
    "stim_loops = np.vstack([data[x:x+loop_duration, 2] for x in stimulus_times[0][:-1]])\n",
    "\n",
    "st_loops = []\n",
    "for i, x in enumerate(stimulus_times[0][:-1]):\n",
    "    st_loops.append([time_s[sp]-time_s[x] for sp in spike_points if sp > x and sp < x+loop_duration])\n",
    "\n",
    "loops = vm_loops.shape[0]\n",
    "print(loops, \"loops\")  \n",
    "\n"
   ]
  },
  {
   "cell_type": "markdown",
   "metadata": {},
   "source": [
    "# Make average arrays\n"
   ]
  },
  {
   "cell_type": "code",
   "execution_count": 371,
   "metadata": {},
   "outputs": [],
   "source": [
    "sr_mean = np.mean(sr_loops, axis=0)\n",
    "vm_mean = np.mean(vm_loops, axis=0)\n",
    "itotal_mean = np.mean(itotal_loops, axis=0)\n",
    "stim_mean = np.mean(stim_loops, axis=0)"
   ]
  },
  {
   "cell_type": "markdown",
   "metadata": {},
   "source": [
    "# Plot stimulus aligned data"
   ]
  },
  {
   "cell_type": "code",
   "execution_count": 381,
   "metadata": {},
   "outputs": [
    {
     "name": "stderr",
     "output_type": "stream",
     "text": [
      "WARNING:bokeh.core.validation.check:W-1004 (BOTH_CHILD_AND_ROOT): Models should not be a document root if they are in a layout box: Figure(id='25e4d8ca-bc35-44d5-9572-f71aea70c895', ...)\n"
     ]
    }
   ],
   "source": [
    "from bokeh.plotting import figure, output_file, show\n",
    "from bokeh.layouts import column\n",
    "from bokeh.models import Range1d\n",
    "\n",
    "output_file(\"AlignedDataPlot.html\")\n",
    "\n",
    "spike_plot = figure(plot_width=400, plot_height = 100)\n",
    "for i in range(0,loops-1):\n",
    "    spike_plot.line(time_s[0:loop_duration],sr_loops[i,:], line_width=1, line_color=\"gray\") # Vm individual repeats\n",
    "spike_plot.line(time_s[0:loop_duration],sr_mean[:], line_width=1.5, line_color=\"black\") # Vm mean\n",
    "spike_plot.yaxis[0].axis_label = 'Rate (Hz)'\n",
    "spike_plot.xgrid.grid_line_color =None\n",
    "spike_plot.ygrid.grid_line_color =None\n",
    "spike_plot.xaxis.major_label_text_font_size = '0pt'  # turn off x-axis tick labels\n",
    "\n",
    "\n",
    "dot_plot = figure(plot_width=400, plot_height = 100, x_range=spike_plot.x_range)\n",
    "for i in range(0,loops-1):\n",
    "   dot_plot.scatter(st_loops[i],i, line_color=\"black\") # Rasterplot\n",
    "dot_plot.yaxis[0].axis_label = 'Repeat'\n",
    "dot_plot.xgrid.grid_line_color =None\n",
    "dot_plot.ygrid.grid_line_color =None\n",
    "dot_plot.xaxis.major_label_text_font_size = '0pt'  # turn off x-axis tick labels\n",
    "\n",
    "\n",
    "vm_plot = figure(plot_width=400, plot_height = 300, y_range=Range1d(-100, 40),x_range=spike_plot.x_range)\n",
    "for i in range(0,loops-1):\n",
    "    vm_plot.line(time_s[0:loop_duration],vm_loops[i,:], line_width=1, line_color=\"gray\") # Vm individual repeats\n",
    "vm_plot.line(time_s[0:loop_duration],vm_mean[:], line_width=1.5, line_color=\"black\") # Vm mean\n",
    "vm_plot.yaxis[0].axis_label = 'Vm (mV)'\n",
    "vm_plot.xgrid.grid_line_color =None\n",
    "vm_plot.ygrid.grid_line_color =None\n",
    "vm_plot.xaxis.major_label_text_font_size = '0pt'  # turn off x-axis tick labels\n",
    "\n",
    "itotal_plot = figure(plot_width=400, plot_height = 200, x_range=spike_plot.x_range)\n",
    "for i in range(0,loops-1):\n",
    "    itotal_plot.line(time_s[0:loop_duration], itotal_loops[i,:], line_width=1, line_color=\"gray\") # Itotal individual repeats\n",
    "itotal_plot.line(time_s[0:loop_duration], itotal_mean[:], line_width=1.5, line_color=\"black\") # Itotal mean\n",
    "itotal_plot.yaxis[0].axis_label = 'Itotal (a.u.)'\n",
    "itotal_plot.xgrid.grid_line_color =None\n",
    "itotal_plot.xaxis.major_label_text_font_size = '0pt'  # turn off x-axis tick labels\n",
    "\n",
    "stim_plot = figure(plot_width=400, plot_height = 100,y_range=Range1d(-0.1,1.1), x_range=spike_plot.x_range)\n",
    "for i in range(0,loops-1):\n",
    "    stim_plot.line(time_s[0:loop_duration], stim_loops[i,:], line_width=1, line_color=\"gray\") # Stimulus individual repeats\n",
    "stim_plot.line(time_s[0:loop_duration], stim_mean[:], line_width=1.5, line_color=\"black\") # Stimulus mean   \n",
    "stim_plot.yaxis[0].axis_label = 'Stimulus'\n",
    "stim_plot.xaxis[0].axis_label = 'Time (s)'\n",
    "stim_plot.xgrid.grid_line_color =None\n",
    "stim_plot.ygrid.grid_line_color =None\n",
    "stim_plot.yaxis.major_tick_line_color = None  # turn off y-axis major ticks\n",
    "stim_plot.yaxis.minor_tick_line_color = None  # turn off y-axis minor ticks\n",
    "stim_plot.yaxis.major_label_text_font_size = '0pt'  # turn off y-axis tick labels\n",
    "\n",
    "show(column(spike_plot,dot_plot,vm_plot,itotal_plot,stim_plot))"
   ]
  },
  {
   "cell_type": "markdown",
   "metadata": {},
   "source": [
    "# Analysis option 2: Spike triggered average (STA)"
   ]
  },
  {
   "cell_type": "code",
   "execution_count": 403,
   "metadata": {},
   "outputs": [
    {
     "data": {
      "image/png": "[encoded data removed]",
      "text/plain": [
       "<Figure size 432x288 with 1 Axes>"
      ]
     },
     "metadata": {},
     "output_type": "display_data"
    }
   ],
   "source": [
    "sta_points = 200 # number of points computed\n",
    "\n",
    "sta_individual = []\n",
    "sta_individual = np.vstack([data[x-sta_points:x,2] for x in spike_points[2:-1]])\n",
    "sta = np.mean(sta_individual, axis=0)\n",
    "\n",
    "import matplotlib.pyplot as plt\n",
    "plt.plot(time_s[0:200],sta[:])\n",
    "plt.ylabel('Kernel amplitude')\n",
    "plt.xlabel('Time before spike (s)')\n",
    "plt.show()\n",
    "\n"
   ]
  },
  {
   "cell_type": "code",
   "execution_count": null,
   "metadata": {},
   "outputs": [],
   "source": []
  }
 ],
 "metadata": {
  "kernelspec": {
   "display_name": "Python 3",
   "language": "python",
   "name": "python3"
  },
  "language_info": {
   "codemirror_mode": {
    "name": "ipython",
    "version": 3
   },
   "file_extension": ".py",
   "mimetype": "text/x-python",
   "name": "python",
   "nbconvert_exporter": "python",
   "pygments_lexer": "ipython3",
   "version": "3.6.5"
  }
 },
 "nbformat": 4,
 "nbformat_minor": 2
}
